{
 "cells": [
  {
   "cell_type": "code",
   "execution_count": 1,
   "id": "9eff40d3",
   "metadata": {},
   "outputs": [],
   "source": [
    "import pickle \n",
    "from nltk import word_tokenize\n",
    "from collections import defaultdict\n",
    "\n",
    "\n",
    "from ParseUIMAXMI import SemanticEntity, SemanticProperty, SemanticData"
   ]
  },
  {
   "cell_type": "code",
   "execution_count": 2,
   "id": "521bba37",
   "metadata": {},
   "outputs": [
    {
     "data": {
      "text/plain": [
       "10256"
      ]
     },
     "execution_count": 2,
     "metadata": {},
     "output_type": "execute_result"
    }
   ],
   "source": [
    "names = []\n",
    "with open (\"MaleGivenNames.txt\") as file_in:\n",
    "    for line in file_in.readlines():\n",
    "        names.append(line.strip())\n",
    "names = sorted(names)\n",
    "len(names)"
   ]
  },
  {
   "cell_type": "code",
   "execution_count": 3,
   "id": "dae6346e",
   "metadata": {},
   "outputs": [
    {
     "data": {
      "text/plain": [
       "['Qaid',\n",
       " 'Qamar',\n",
       " 'Qasim',\n",
       " 'Qi',\n",
       " 'Qi-Lan',\n",
       " 'Qiang',\n",
       " 'Qianhua',\n",
       " 'Qiao-Jun',\n",
       " 'Qidai',\n",
       " 'Qidong',\n",
       " 'Qingcheng',\n",
       " 'Qingru',\n",
       " 'Quail',\n",
       " 'Quang',\n",
       " 'Quddus',\n",
       " 'Quenntin',\n",
       " 'Quentin',\n",
       " 'Quevedo',\n",
       " 'Quin',\n",
       " 'Quinn',\n",
       " 'Quinn-Alexander',\n",
       " 'Quint',\n",
       " 'Quinto',\n",
       " 'Quintus',\n",
       " 'Quirin',\n",
       " 'Quirinus']"
      ]
     },
     "execution_count": 3,
     "metadata": {},
     "output_type": "execute_result"
    }
   ],
   "source": [
    "name_dict = defaultdict(list)\n",
    "\n",
    "for name in names:\n",
    "    letter = name[0]\n",
    "    if letter in name_dict.keys():\n",
    "        name_dict[letter].append(name)\n",
    "    else:\n",
    "        name_dict[letter] = [name]\n",
    "# for example names starting with 'Q'\n",
    "name_dict[\"Q\"]\n"
   ]
  },
  {
   "cell_type": "code",
   "execution_count": 4,
   "id": "f18e95a1",
   "metadata": {},
   "outputs": [],
   "source": [
    "\n",
    "\n",
    "with open('/Users/olhasvezhentseva/Documents/PRS_2021/naturkundemuseum/naturkundemuseum-annotation-new/Data/ParsedSemanticAnnotations.pickle','rb') as infile:\n",
    "    whole_dict = pickle.load(infile)\n",
    "    dict =  whole_dict.load_pickle('/Users/olhasvezhentseva/Documents/PRS_2021/naturkundemuseum/naturkundemuseum-annotation-new/Data/ParsedSemanticAnnotations.pickle')\n"
   ]
  },
  {
   "cell_type": "code",
   "execution_count": 5,
   "id": "28073b68",
   "metadata": {},
   "outputs": [],
   "source": [
    "def find_token(token):\n",
    "    if token[0] in name_dict.keys():\n",
    "        for name in name_dict[token[0]]:\n",
    "            if name == token:\n",
    "                return True\n",
    "    return False\n",
    "            "
   ]
  },
  {
   "cell_type": "code",
   "execution_count": 6,
   "id": "17e83271",
   "metadata": {},
   "outputs": [],
   "source": [
    "def extract_titles(whole_dict):\n",
    "    titles = set()\n",
    "    for entity in whole_dict.entities:\n",
    "        if entity.type == \"E21 Person\":\n",
    "            tokens = word_tokenize(entity.string)\n",
    "            if len(tokens) > 1:\n",
    "                for token in tokens[:-1]:\n",
    "                    if len(token) == 2 and token[-1] == \".\":\n",
    "                        pass\n",
    "                    elif len(token) == 1:\n",
    "                        pass\n",
    "                    else:\n",
    "                        if token in [\"Clara\", \"von\", \"dem\", \"Miss\", \"Jaekel\", \"Futterer\", \"Mary\"]:\n",
    "                            pass\n",
    "                        else:\n",
    "                            is_name = find_token(token)\n",
    "                            titles.add(token)\n",
    "    return titles"
   ]
  },
  {
   "cell_type": "code",
   "execution_count": 7,
   "id": "0f074820",
   "metadata": {},
   "outputs": [],
   "source": [
    "titles = extract_titles(whole_dict)"
   ]
  },
  {
   "cell_type": "code",
   "execution_count": 8,
   "id": "4cd52ffd",
   "metadata": {},
   "outputs": [],
   "source": [
    " # Save titles in a txt file.\n",
    "def save_titles(filename, titles):\n",
    "    with open(filename, 'w') as f:\n",
    "        for title in titles:\n",
    "            f.write(f\"{title}\\n\")\n",
    "    return"
   ]
  },
  {
   "cell_type": "code",
   "execution_count": 9,
   "id": "4002496c",
   "metadata": {},
   "outputs": [],
   "source": [
    "save_titles(\"titles1.txt\", titles)\n"
   ]
  }
 ],
 "metadata": {
  "kernelspec": {
   "display_name": "Python 3 (ipykernel)",
   "language": "python",
   "name": "python3"
  },
  "language_info": {
   "codemirror_mode": {
    "name": "ipython",
    "version": 3
   },
   "file_extension": ".py",
   "mimetype": "text/x-python",
   "name": "python",
   "nbconvert_exporter": "python",
   "pygments_lexer": "ipython3",
   "version": "3.7.13"
  }
 },
 "nbformat": 4,
 "nbformat_minor": 5
}
